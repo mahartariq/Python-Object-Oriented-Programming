{
 "cells": [
  {
   "cell_type": "code",
   "execution_count": 1,
   "metadata": {},
   "outputs": [],
   "source": [
    "class Computer:\n",
    "    def process(self):\n",
    "        print(\"first method\")"
   ]
  },
  {
   "cell_type": "code",
   "execution_count": 2,
   "metadata": {},
   "outputs": [],
   "source": [
    "comp1 = Computer()"
   ]
  },
  {
   "cell_type": "code",
   "execution_count": 3,
   "metadata": {},
   "outputs": [
    {
     "name": "stdout",
     "output_type": "stream",
     "text": [
      "first method\n"
     ]
    }
   ],
   "source": [
    "Computer.process(comp1)"
   ]
  },
  {
   "cell_type": "code",
   "execution_count": 4,
   "metadata": {},
   "outputs": [
    {
     "name": "stdout",
     "output_type": "stream",
     "text": [
      "first method\n"
     ]
    }
   ],
   "source": [
    "comp1.process()"
   ]
  },
  {
   "cell_type": "code",
   "execution_count": 21,
   "metadata": {},
   "outputs": [],
   "source": [
    "class Computer:\n",
    "    def __init__(self,processor,ram,hd):\n",
    "        self.processor = processor\n",
    "        self.ram = ram\n",
    "        self.hd = hd\n",
    "        print('constructor automatically runs')\n",
    "    def display(self):\n",
    "        print(self.processor,self.ram,self.hd)"
   ]
  },
  {
   "cell_type": "code",
   "execution_count": 22,
   "metadata": {},
   "outputs": [
    {
     "name": "stdout",
     "output_type": "stream",
     "text": [
      "constructor automatically runs\n"
     ]
    }
   ],
   "source": [
    "comp1 = Computer('i5',8,500)"
   ]
  },
  {
   "cell_type": "code",
   "execution_count": 23,
   "metadata": {},
   "outputs": [
    {
     "name": "stdout",
     "output_type": "stream",
     "text": [
      "i5 8 500\n"
     ]
    }
   ],
   "source": [
    "comp1.display()"
   ]
  },
  {
   "cell_type": "code",
   "execution_count": 25,
   "metadata": {},
   "outputs": [
    {
     "name": "stdout",
     "output_type": "stream",
     "text": [
      "i5 8GB 500GB\n",
      "hp\n"
     ]
    }
   ],
   "source": [
    "class Computer:\n",
    "    name = 'hp'\n",
    "    \n",
    "    def __init__(self,processor,ram,hd):\n",
    "        self.processor = processor\n",
    "        self.ram = ram\n",
    "        self.hd = hd\n",
    "    def info(self):\n",
    "        print(self.processor,self.ram,self.hd)\n",
    "    \n",
    "    @classmethod\n",
    "    def company(cls):\n",
    "        print(cls.name)\n",
    "\n",
    "comp1 = Computer('i5','8GB','500GB')\n",
    "comp1.info()\n",
    "comp1.company()"
   ]
  },
  {
   "cell_type": "code",
   "execution_count": 37,
   "metadata": {},
   "outputs": [],
   "source": [
    "class Student:\n",
    "    name = 'The Educators School'\n",
    "    \n",
    "    def __init__(self,name,grade,roll):\n",
    "        self.name = name\n",
    "        self.grade = grade\n",
    "        self.roll = roll\n",
    "    def info(self):\n",
    "        print('Student name: ',self.name)\n",
    "        print('Grade: ',self.grade)\n",
    "        print('Roll: ',self.grade)\n",
    "    @classmethod\n",
    "    def school(cls):\n",
    "        print(cls.name)\n",
    "    \n",
    "    @staticmethod\n",
    "    def fee():\n",
    "        print('School fee can be checked from student portal.')"
   ]
  },
  {
   "cell_type": "code",
   "execution_count": 38,
   "metadata": {},
   "outputs": [],
   "source": [
    "std1 = Student('Arslan','3rd',11)"
   ]
  },
  {
   "cell_type": "code",
   "execution_count": 39,
   "metadata": {},
   "outputs": [
    {
     "name": "stdout",
     "output_type": "stream",
     "text": [
      "Student name:  Arslan\n",
      "Grade:  3rd\n",
      "Roll:  3rd\n"
     ]
    }
   ],
   "source": [
    "std1.info()"
   ]
  },
  {
   "cell_type": "code",
   "execution_count": 40,
   "metadata": {},
   "outputs": [
    {
     "name": "stdout",
     "output_type": "stream",
     "text": [
      "School fee can be checked from student portal.\n"
     ]
    }
   ],
   "source": [
    "std1.fee()"
   ]
  },
  {
   "cell_type": "code",
   "execution_count": 41,
   "metadata": {},
   "outputs": [
    {
     "name": "stdout",
     "output_type": "stream",
     "text": [
      "The Educators School\n"
     ]
    }
   ],
   "source": [
    "std1.school()"
   ]
  },
  {
   "cell_type": "markdown",
   "metadata": {},
   "source": [
    "# Inner Class"
   ]
  },
  {
   "cell_type": "code",
   "execution_count": 49,
   "metadata": {},
   "outputs": [],
   "source": [
    "class Student:\n",
    "    \n",
    "    def __init__(self,name,grade,roll):\n",
    "        self.name = name\n",
    "        self.grade = grade\n",
    "        self.roll = roll\n",
    "    def info(self):\n",
    "        print(self.name,self.grade,self.roll)\n",
    "    \n",
    "    class Books:\n",
    "        def __init__(self,books,grade):\n",
    "            self.books = books\n",
    "            self.grade = grade\n",
    "        def book_info(self):\n",
    "            print(self.books,\" for \"+self.grade)"
   ]
  },
  {
   "cell_type": "code",
   "execution_count": 43,
   "metadata": {},
   "outputs": [],
   "source": [
    "std1 = Student('Arslan','3rd',32)"
   ]
  },
  {
   "cell_type": "code",
   "execution_count": 44,
   "metadata": {},
   "outputs": [
    {
     "name": "stdout",
     "output_type": "stream",
     "text": [
      "Arslan 3rd 32\n"
     ]
    }
   ],
   "source": [
    "std1.info()"
   ]
  },
  {
   "cell_type": "code",
   "execution_count": 50,
   "metadata": {},
   "outputs": [],
   "source": [
    "book3 = Student.Books(['Islamic Study','Urdu','English','Math'],'3rd')"
   ]
  },
  {
   "cell_type": "code",
   "execution_count": 51,
   "metadata": {},
   "outputs": [
    {
     "name": "stdout",
     "output_type": "stream",
     "text": [
      "['Islamic Study', 'Urdu', 'English', 'Math']  for 3rd\n"
     ]
    }
   ],
   "source": [
    "book3.book_info()"
   ]
  },
  {
   "cell_type": "code",
   "execution_count": 52,
   "metadata": {},
   "outputs": [
    {
     "data": {
      "text/plain": [
       "['Islamic Study', 'Urdu', 'English', 'Math']"
      ]
     },
     "execution_count": 52,
     "metadata": {},
     "output_type": "execute_result"
    }
   ],
   "source": [
    "book3.books"
   ]
  },
  {
   "cell_type": "code",
   "execution_count": 53,
   "metadata": {},
   "outputs": [
    {
     "data": {
      "text/plain": [
       "'3rd'"
      ]
     },
     "execution_count": 53,
     "metadata": {},
     "output_type": "execute_result"
    }
   ],
   "source": [
    "book3.grade"
   ]
  },
  {
   "cell_type": "markdown",
   "metadata": {},
   "source": [
    "# Inheritence"
   ]
  },
  {
   "cell_type": "code",
   "execution_count": 54,
   "metadata": {},
   "outputs": [],
   "source": [
    "# Single Inheritance"
   ]
  },
  {
   "cell_type": "code",
   "execution_count": 55,
   "metadata": {},
   "outputs": [],
   "source": [
    "class Mobile:\n",
    "    \n",
    "    def __init__(self,name,price):\n",
    "        self.name = name\n",
    "        self.price = price\n",
    "    \n",
    "    def feature1(self):\n",
    "        print('Supports 3G/4G')\n",
    "    def feature2(self):\n",
    "        print('32MP Camera')\n",
    "    def feature3(self):\n",
    "        print('16GB ROM')\n",
    "\n",
    "        \n",
    "class Tablet(Mobile):\n",
    "    \n",
    "    def __init__(self,tname,tprice):\n",
    "        self.name = tname\n",
    "        self.price = tprice\n",
    "    def feature4(self):\n",
    "        print('128 ROM')\n",
    "    def feature5(self):\n",
    "        print('5100 mAh')"
   ]
  },
  {
   "cell_type": "code",
   "execution_count": 56,
   "metadata": {},
   "outputs": [],
   "source": [
    "mob1 = Mobile('Y90','14500')"
   ]
  },
  {
   "cell_type": "code",
   "execution_count": 58,
   "metadata": {},
   "outputs": [
    {
     "name": "stdout",
     "output_type": "stream",
     "text": [
      "Supports 3G/4G\n"
     ]
    }
   ],
   "source": [
    "mob1.feature1()"
   ]
  },
  {
   "cell_type": "code",
   "execution_count": 60,
   "metadata": {},
   "outputs": [
    {
     "name": "stdout",
     "output_type": "stream",
     "text": [
      "32MP Camera\n"
     ]
    }
   ],
   "source": [
    "mob1.feature2()"
   ]
  },
  {
   "cell_type": "code",
   "execution_count": 61,
   "metadata": {},
   "outputs": [
    {
     "name": "stdout",
     "output_type": "stream",
     "text": [
      "16GB ROM\n"
     ]
    }
   ],
   "source": [
    "mob1.feature3()"
   ]
  },
  {
   "cell_type": "code",
   "execution_count": 63,
   "metadata": {},
   "outputs": [],
   "source": [
    "tab1 = Tablet('A7',30000)"
   ]
  },
  {
   "cell_type": "code",
   "execution_count": 64,
   "metadata": {},
   "outputs": [
    {
     "data": {
      "text/plain": [
       "'A7'"
      ]
     },
     "execution_count": 64,
     "metadata": {},
     "output_type": "execute_result"
    }
   ],
   "source": [
    "tab1.name"
   ]
  },
  {
   "cell_type": "code",
   "execution_count": 66,
   "metadata": {},
   "outputs": [
    {
     "name": "stdout",
     "output_type": "stream",
     "text": [
      "Supports 3G/4G\n"
     ]
    }
   ],
   "source": [
    "tab1.feature1()"
   ]
  },
  {
   "cell_type": "code",
   "execution_count": 67,
   "metadata": {},
   "outputs": [
    {
     "name": "stdout",
     "output_type": "stream",
     "text": [
      "5100 mAh\n"
     ]
    }
   ],
   "source": [
    "tab1.feature5()"
   ]
  },
  {
   "cell_type": "code",
   "execution_count": 68,
   "metadata": {},
   "outputs": [],
   "source": [
    "# Multiple Inheritance"
   ]
  },
  {
   "cell_type": "code",
   "execution_count": 79,
   "metadata": {},
   "outputs": [],
   "source": [
    "class Mobile:\n",
    "    \n",
    "    def __init__(self,name,price):\n",
    "        self.name = name\n",
    "        self.price = price\n",
    "    \n",
    "    def feature1(self):\n",
    "        print('Supports 3G/4G')\n",
    "    def feature2(self):\n",
    "        print('32MP Camera')\n",
    "    def feature3(self):\n",
    "        print('16GB ROM')\n",
    "\n",
    "class Tablet:\n",
    "    def __init__(self,name,price):\n",
    "        self.name = name\n",
    "        self.price = price\n",
    "    def feature4(self):\n",
    "        print('128 ROM')\n",
    "    def feature5(self):\n",
    "        print('5100 mAh')\n",
    "    \n",
    "class Minicomputer(Mobile,Tablet):\n",
    "    company = 'elit'\n",
    "    def __init__(self,name,price):\n",
    "        self.name = name\n",
    "        self.price = price\n",
    "    def feature6(self):\n",
    "        print('Keyboard','Mouse')\n",
    "    def feature7(self):\n",
    "        print('Portable')"
   ]
  },
  {
   "cell_type": "code",
   "execution_count": 80,
   "metadata": {},
   "outputs": [],
   "source": [
    "t1 =Tablet('A7 Lite',30000)"
   ]
  },
  {
   "cell_type": "code",
   "execution_count": 81,
   "metadata": {},
   "outputs": [],
   "source": [
    "m1 = Mobile('S5',40000)"
   ]
  },
  {
   "cell_type": "code",
   "execution_count": 82,
   "metadata": {},
   "outputs": [
    {
     "data": {
      "text/plain": [
       "'S5'"
      ]
     },
     "execution_count": 82,
     "metadata": {},
     "output_type": "execute_result"
    }
   ],
   "source": [
    "m1.name"
   ]
  },
  {
   "cell_type": "code",
   "execution_count": 83,
   "metadata": {},
   "outputs": [
    {
     "data": {
      "text/plain": [
       "'A7 Lite'"
      ]
     },
     "execution_count": 83,
     "metadata": {},
     "output_type": "execute_result"
    }
   ],
   "source": [
    "t1.name"
   ]
  },
  {
   "cell_type": "code",
   "execution_count": 84,
   "metadata": {},
   "outputs": [],
   "source": [
    "mc1 = Minicomputer('AT1',46700)"
   ]
  },
  {
   "cell_type": "code",
   "execution_count": 85,
   "metadata": {},
   "outputs": [
    {
     "data": {
      "text/plain": [
       "'elit'"
      ]
     },
     "execution_count": 85,
     "metadata": {},
     "output_type": "execute_result"
    }
   ],
   "source": [
    "mc1.company"
   ]
  },
  {
   "cell_type": "code",
   "execution_count": 86,
   "metadata": {},
   "outputs": [
    {
     "data": {
      "text/plain": [
       "'AT1'"
      ]
     },
     "execution_count": 86,
     "metadata": {},
     "output_type": "execute_result"
    }
   ],
   "source": [
    "mc1.name"
   ]
  },
  {
   "cell_type": "code",
   "execution_count": 88,
   "metadata": {},
   "outputs": [
    {
     "name": "stdout",
     "output_type": "stream",
     "text": [
      "32MP Camera\n"
     ]
    }
   ],
   "source": [
    "mc1.feature2()"
   ]
  },
  {
   "cell_type": "code",
   "execution_count": 89,
   "metadata": {},
   "outputs": [
    {
     "name": "stdout",
     "output_type": "stream",
     "text": [
      "128 ROM\n"
     ]
    }
   ],
   "source": [
    "mc1.feature4()"
   ]
  },
  {
   "cell_type": "code",
   "execution_count": 90,
   "metadata": {},
   "outputs": [
    {
     "name": "stdout",
     "output_type": "stream",
     "text": [
      "Portable\n"
     ]
    }
   ],
   "source": [
    "mc1.feature7()"
   ]
  },
  {
   "cell_type": "code",
   "execution_count": 113,
   "metadata": {},
   "outputs": [],
   "source": [
    "class Mobile:\n",
    "    def __init__(self):\n",
    "        print('Mobile Class Constructor Function')\n",
    "    def feature1(self):\n",
    "        print('Supports 3G/4G')\n",
    "    def feature2(self):\n",
    "        print('32MP Camera')\n",
    "    def feature3(self):\n",
    "        print('16GB ROM')\n",
    "\n",
    "class Tablet():\n",
    "    def __init__(self):\n",
    "        print('Tablet Class Constructor')\n",
    "    def feature4(self):\n",
    "        print('128 ROM')\n",
    "    def feature5(self):\n",
    "        print('5100 mAh')\n",
    "    \n",
    "class Minicomputer(Mobile,Tablet):\n",
    "    company = 'elit'\n",
    "    def __init__(self):\n",
    "        print('Minicomputer Constructor')\n",
    "        super().__init__()\n",
    "    def feature6(self):\n",
    "        print('Keyboard','Mouse')\n",
    "    def feature7(self):\n",
    "        print('Portable')"
   ]
  },
  {
   "cell_type": "code",
   "execution_count": 114,
   "metadata": {},
   "outputs": [
    {
     "name": "stdout",
     "output_type": "stream",
     "text": [
      "Minicomputer Constructor\n",
      "Mobile Class Constructor Function\n"
     ]
    }
   ],
   "source": [
    "mt1 = Minicomputer()"
   ]
  },
  {
   "cell_type": "code",
   "execution_count": 115,
   "metadata": {},
   "outputs": [],
   "source": [
    "class Mobile:\n",
    "    def __init__(self):\n",
    "        print('Mobile Class Constructor Function')\n",
    "    def feature1(self):\n",
    "        print('Supports 3G/4G')\n",
    "    def feature2(self):\n",
    "        print('32MP Camera')\n",
    "    def feature3(self):\n",
    "        print('16GB ROM')\n",
    "\n",
    "class Tablet():\n",
    "    def __init__(self):\n",
    "        print('Tablet Class Constructor')\n",
    "    def feature2(self):\n",
    "        print('128 ROM')\n",
    "    def feature5(self):\n",
    "        print('5100 mAh')\n",
    "    \n",
    "class Minicomputer(Tablet,Mobile):\n",
    "    company = 'elit'\n",
    "    def __init__(self):\n",
    "        print('Minicomputer Constructor')\n",
    "        super().__init__()\n",
    "    def feature6(self):\n",
    "        print('Keyboard','Mouse')\n",
    "    def feature7(self):\n",
    "        print('Portable')\n",
    "        super().feature2()"
   ]
  },
  {
   "cell_type": "code",
   "execution_count": 116,
   "metadata": {},
   "outputs": [
    {
     "name": "stdout",
     "output_type": "stream",
     "text": [
      "Minicomputer Constructor\n",
      "Tablet Class Constructor\n"
     ]
    }
   ],
   "source": [
    "mt1 = Minicomputer()"
   ]
  },
  {
   "cell_type": "code",
   "execution_count": 117,
   "metadata": {},
   "outputs": [
    {
     "name": "stdout",
     "output_type": "stream",
     "text": [
      "Portable\n",
      "128 ROM\n"
     ]
    }
   ],
   "source": [
    "mt1.feature7()"
   ]
  },
  {
   "cell_type": "markdown",
   "metadata": {},
   "source": [
    "# Multi-Level Inheritance"
   ]
  },
  {
   "cell_type": "code",
   "execution_count": 91,
   "metadata": {},
   "outputs": [],
   "source": [
    "class Mobile:\n",
    "    def __init__(self,name,price):\n",
    "        self.name = name\n",
    "        self.price = price\n",
    "    def feature1(self):\n",
    "        print('Supports 3G/4G')\n",
    "    def feature2(self):\n",
    "        print('32MP Camera')\n",
    "    def feature3(self):\n",
    "        print('16GB ROM')\n",
    "\n",
    "class Tablet(Mobile):\n",
    "    def __init__(self,name,price):\n",
    "        self.name = name\n",
    "        self.price = price\n",
    "    def feature4(self):\n",
    "        print('128 ROM')\n",
    "    def feature5(self):\n",
    "        print('5100 mAh')\n",
    "    \n",
    "class Minicomputer(Tablet):\n",
    "    company = 'elit'\n",
    "    def __init__(self,name,price):\n",
    "        self.name = name\n",
    "        self.price = price\n",
    "    def feature6(self):\n",
    "        print('Keyboard','Mouse')\n",
    "    def feature7(self):\n",
    "        print('Portable')"
   ]
  },
  {
   "cell_type": "code",
   "execution_count": 92,
   "metadata": {},
   "outputs": [],
   "source": [
    "mc1 = Minicomputer('AT1',46700)"
   ]
  },
  {
   "cell_type": "code",
   "execution_count": 94,
   "metadata": {},
   "outputs": [
    {
     "name": "stdout",
     "output_type": "stream",
     "text": [
      "Supports 3G/4G\n"
     ]
    }
   ],
   "source": [
    "mc1.feature1()"
   ]
  },
  {
   "cell_type": "code",
   "execution_count": 95,
   "metadata": {},
   "outputs": [
    {
     "name": "stdout",
     "output_type": "stream",
     "text": [
      "Portable\n"
     ]
    }
   ],
   "source": [
    "mc1.feature7()"
   ]
  },
  {
   "cell_type": "code",
   "execution_count": 96,
   "metadata": {},
   "outputs": [
    {
     "data": {
      "text/plain": [
       "'elit'"
      ]
     },
     "execution_count": 96,
     "metadata": {},
     "output_type": "execute_result"
    }
   ],
   "source": [
    "mc1.company"
   ]
  },
  {
   "cell_type": "code",
   "execution_count": 108,
   "metadata": {},
   "outputs": [],
   "source": [
    "class Mobile:\n",
    "    def __init__(self):\n",
    "        print('Mobile Class Constructor Function')\n",
    "    def feature1(self):\n",
    "        print('Supports 3G/4G')\n",
    "    def feature2(self):\n",
    "        print('32MP Camera')\n",
    "    def feature3(self):\n",
    "        print('16GB ROM')\n",
    "\n",
    "class Tablet(Mobile):\n",
    "    def __init__(self):\n",
    "        print('Tablet Class Constructor')\n",
    "        super().__init__()\n",
    "    def feature4(self):\n",
    "        print('128 ROM')\n",
    "    def feature5(self):\n",
    "        print('5100 mAh')\n",
    "    \n",
    "class Minicomputer(Tablet):\n",
    "    company = 'elit'\n",
    "    def __init__(self):\n",
    "        print('Minicomputer Constructor')\n",
    "        super().__init__()\n",
    "    def feature6(self):\n",
    "        print('Keyboard','Mouse')\n",
    "    def feature7(self):\n",
    "        print('Portable')"
   ]
  },
  {
   "cell_type": "code",
   "execution_count": 109,
   "metadata": {},
   "outputs": [
    {
     "name": "stdout",
     "output_type": "stream",
     "text": [
      "Minicomputer Constructor\n",
      "Tablet Class Constructor\n",
      "Mobile Class Constructor Function\n"
     ]
    }
   ],
   "source": [
    "mc1 = Minicomputer()"
   ]
  },
  {
   "cell_type": "code",
   "execution_count": 101,
   "metadata": {},
   "outputs": [
    {
     "name": "stdout",
     "output_type": "stream",
     "text": [
      "Portable\n"
     ]
    }
   ],
   "source": [
    "mc1.feature7()"
   ]
  },
  {
   "cell_type": "code",
   "execution_count": 110,
   "metadata": {},
   "outputs": [],
   "source": [
    "class Mobile:\n",
    "    def __init__(self):\n",
    "        print('Mobile Class Constructor Function')\n",
    "    def feature1(self):\n",
    "        print('Supports 3G/4G')\n",
    "    def feature2(self):\n",
    "        print('32MP Camera')\n",
    "    def feature3(self):\n",
    "        print('16GB ROM')\n",
    "\n",
    "class Tablet(Mobile):\n",
    "    def __init__(self):\n",
    "        print('Tablet Class Constructor')\n",
    "        super().__init__()\n",
    "    def feature4(self):\n",
    "        print('128 ROM')\n",
    "        super().feature3()\n",
    "    def feature5(self):\n",
    "        print('5100 mAh')\n",
    "    \n",
    "class Minicomputer(Tablet):\n",
    "    company = 'elit'\n",
    "    def __init__(self):\n",
    "        print('Minicomputer Constructor')\n",
    "        super().__init__()\n",
    "    def feature6(self):\n",
    "        print('Keyboard','Mouse')\n",
    "    def feature7(self):\n",
    "        print('Portable')"
   ]
  },
  {
   "cell_type": "code",
   "execution_count": 111,
   "metadata": {},
   "outputs": [
    {
     "name": "stdout",
     "output_type": "stream",
     "text": [
      "Tablet Class Constructor\n",
      "Mobile Class Constructor Function\n"
     ]
    }
   ],
   "source": [
    "t1 = Tablet()"
   ]
  },
  {
   "cell_type": "code",
   "execution_count": 112,
   "metadata": {},
   "outputs": [
    {
     "name": "stdout",
     "output_type": "stream",
     "text": [
      "128 ROM\n",
      "16GB ROM\n"
     ]
    }
   ],
   "source": [
    "t1.feature4()"
   ]
  },
  {
   "cell_type": "code",
   "execution_count": null,
   "metadata": {},
   "outputs": [],
   "source": []
  }
 ],
 "metadata": {
  "kernelspec": {
   "display_name": "Python 3",
   "language": "python",
   "name": "python3"
  },
  "language_info": {
   "codemirror_mode": {
    "name": "ipython",
    "version": 3
   },
   "file_extension": ".py",
   "mimetype": "text/x-python",
   "name": "python",
   "nbconvert_exporter": "python",
   "pygments_lexer": "ipython3",
   "version": "3.8.3"
  }
 },
 "nbformat": 4,
 "nbformat_minor": 4
}
